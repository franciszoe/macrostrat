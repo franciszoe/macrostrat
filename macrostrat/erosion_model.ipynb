{
 "cells": [
  {
   "cell_type": "markdown",
   "metadata": {},
   "source": [
    "# General Erosion/Sedimentation Model"
   ]
  },
  {
   "cell_type": "markdown",
   "metadata": {},
   "source": [
    "The basic motivation for this model is to explicitly couple erosion with sedimentation on a broad (global) scale. All erosion generates sediment, but only some of this sediment has preservation potential. In this context, I take preservation to mean the deposition of sediments in environments where their preservation on billion year time scales is not precluded. These environments are for the most part continental interiors and marine sediments on continental shelves and along passive margins. Marine sediments that deposit along active margins, on the other hand, risk subduction (CHECK SUBDUCTION EFFICIENCY). \n",
    "\n",
    "Need to account for authigenic carbonate and evaporitic sediments, although ultimately carbonate formation does also depend on alkalinity supply which is erosional sustained, right? No erosion = no alkalinity. "
   ]
  },
  {
   "cell_type": "markdown",
   "metadata": {},
   "source": [
    "## Guiding equations\n",
    "\n",
    "The following equations are provided in a discrete form, meaning that time parameters $t$, $t^\\prime$, etc. are integer indices into discrete time series of deposited sediments $s_d(t)$, preserved sediments $s_p(t^\\prime, t)$, eroded materials $e(t)$, and subducted sediments $o(t)$."
   ]
  },
  {
   "cell_type": "markdown",
   "metadata": {},
   "source": [
    "\\begin{align}\n",
    "& s_d(t) = e(t) - o(t), \\quad 0 \\leq o(t) \\leq e(t) \\\\\n",
    "& k_b(t) + k_s(t) = 1, \\quad 0 \\leq k_b, k_s \\leq 1 \\\\\n",
    "& k_s(t) = \\sum_{t^\\prime = 0}^t \\tilde{k}_s(t^\\prime,t), \\quad 0 \\leq \\tilde{k}_s \\leq 1 \\\\\n",
    "& s_p(t^\\prime, t) = s_d(t^\\prime) - \\sum_{t^{\\prime\\prime} = t^\\prime + 1}^t \\tilde{k}_s(t^\\prime, t^{\\prime\\prime})\\,e(t^{\\prime\\prime}) \\geq 0\n",
    "\\end{align}"
   ]
  },
  {
   "cell_type": "markdown",
   "metadata": {},
   "source": [
    "From these equations, three basic unknowns emerge: the quantity of eroded materials, the quantity of \"lost\" materials (i.e. eroded sediments that are ultimately subducted), and the fraction of all eroded materials that rocks of age $t^\\prime$ compose at time $t$."
   ]
  },
  {
   "cell_type": "markdown",
   "metadata": {},
   "source": [
    "## Assumptions and hypotheses"
   ]
  },
  {
   "cell_type": "code",
   "execution_count": null,
   "metadata": {},
   "outputs": [],
   "source": []
  }
 ],
 "metadata": {
  "kernelspec": {
   "display_name": "Python 3",
   "language": "python",
   "name": "python3"
  },
  "language_info": {
   "codemirror_mode": {
    "name": "ipython",
    "version": 3
   },
   "file_extension": ".py",
   "mimetype": "text/x-python",
   "name": "python",
   "nbconvert_exporter": "python",
   "pygments_lexer": "ipython3",
   "version": "3.6.8"
  }
 },
 "nbformat": 4,
 "nbformat_minor": 4
}
